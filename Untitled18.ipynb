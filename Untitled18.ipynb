{
  "nbformat": 4,
  "nbformat_minor": 0,
  "metadata": {
    "colab": {
      "provenance": [],
      "authorship_tag": "ABX9TyOHQMR2oySaJ/VTg6z4d9Zs",
      "include_colab_link": true
    },
    "kernelspec": {
      "name": "python3",
      "display_name": "Python 3"
    },
    "language_info": {
      "name": "python"
    },
    "widgets": {
      "application/vnd.jupyter.widget-state+json": {
        "d2ab309e9870424b86f51d7bbde58f4f": {
          "model_module": "@jupyter-widgets/controls",
          "model_name": "HBoxModel",
          "model_module_version": "1.5.0",
          "state": {
            "_dom_classes": [],
            "_model_module": "@jupyter-widgets/controls",
            "_model_module_version": "1.5.0",
            "_model_name": "HBoxModel",
            "_view_count": null,
            "_view_module": "@jupyter-widgets/controls",
            "_view_module_version": "1.5.0",
            "_view_name": "HBoxView",
            "box_style": "",
            "children": [
              "IPY_MODEL_fd0a04e7846e4e2a9e55fc2badfbb5f4",
              "IPY_MODEL_f4881bd47d7c4c918479f79f6bc34f5b",
              "IPY_MODEL_75a4d262dae54991a00770e2b14ef676"
            ],
            "layout": "IPY_MODEL_b7cefdd4d0a54501b2eba0d6617b5dd2"
          }
        },
        "fd0a04e7846e4e2a9e55fc2badfbb5f4": {
          "model_module": "@jupyter-widgets/controls",
          "model_name": "HTMLModel",
          "model_module_version": "1.5.0",
          "state": {
            "_dom_classes": [],
            "_model_module": "@jupyter-widgets/controls",
            "_model_module_version": "1.5.0",
            "_model_name": "HTMLModel",
            "_view_count": null,
            "_view_module": "@jupyter-widgets/controls",
            "_view_module_version": "1.5.0",
            "_view_name": "HTMLView",
            "description": "",
            "description_tooltip": null,
            "layout": "IPY_MODEL_5523fda0b2fa4849bf872df8911c86f8",
            "placeholder": "​",
            "style": "IPY_MODEL_73dc1f8bfab149f5b14086e2ec185dd0",
            "value": "Dl Completed...: 100%"
          }
        },
        "f4881bd47d7c4c918479f79f6bc34f5b": {
          "model_module": "@jupyter-widgets/controls",
          "model_name": "FloatProgressModel",
          "model_module_version": "1.5.0",
          "state": {
            "_dom_classes": [],
            "_model_module": "@jupyter-widgets/controls",
            "_model_module_version": "1.5.0",
            "_model_name": "FloatProgressModel",
            "_view_count": null,
            "_view_module": "@jupyter-widgets/controls",
            "_view_module_version": "1.5.0",
            "_view_name": "ProgressView",
            "bar_style": "success",
            "description": "",
            "description_tooltip": null,
            "layout": "IPY_MODEL_875f954f914e47a08d4fb24b94ad1a97",
            "max": 4,
            "min": 0,
            "orientation": "horizontal",
            "style": "IPY_MODEL_f5e65d31808746ceb6d9c51b27b49fe6",
            "value": 4
          }
        },
        "75a4d262dae54991a00770e2b14ef676": {
          "model_module": "@jupyter-widgets/controls",
          "model_name": "HTMLModel",
          "model_module_version": "1.5.0",
          "state": {
            "_dom_classes": [],
            "_model_module": "@jupyter-widgets/controls",
            "_model_module_version": "1.5.0",
            "_model_name": "HTMLModel",
            "_view_count": null,
            "_view_module": "@jupyter-widgets/controls",
            "_view_module_version": "1.5.0",
            "_view_name": "HTMLView",
            "description": "",
            "description_tooltip": null,
            "layout": "IPY_MODEL_17811ddb9ccd4d1eb1d63289709bdb14",
            "placeholder": "​",
            "style": "IPY_MODEL_5fedaa1429054ff8ba87675de09ce334",
            "value": " 4/4 [00:18&lt;00:00,  6.17s/ file]"
          }
        },
        "b7cefdd4d0a54501b2eba0d6617b5dd2": {
          "model_module": "@jupyter-widgets/base",
          "model_name": "LayoutModel",
          "model_module_version": "1.2.0",
          "state": {
            "_model_module": "@jupyter-widgets/base",
            "_model_module_version": "1.2.0",
            "_model_name": "LayoutModel",
            "_view_count": null,
            "_view_module": "@jupyter-widgets/base",
            "_view_module_version": "1.2.0",
            "_view_name": "LayoutView",
            "align_content": null,
            "align_items": null,
            "align_self": null,
            "border": null,
            "bottom": null,
            "display": null,
            "flex": null,
            "flex_flow": null,
            "grid_area": null,
            "grid_auto_columns": null,
            "grid_auto_flow": null,
            "grid_auto_rows": null,
            "grid_column": null,
            "grid_gap": null,
            "grid_row": null,
            "grid_template_areas": null,
            "grid_template_columns": null,
            "grid_template_rows": null,
            "height": null,
            "justify_content": null,
            "justify_items": null,
            "left": null,
            "margin": null,
            "max_height": null,
            "max_width": null,
            "min_height": null,
            "min_width": null,
            "object_fit": null,
            "object_position": null,
            "order": null,
            "overflow": null,
            "overflow_x": null,
            "overflow_y": null,
            "padding": null,
            "right": null,
            "top": null,
            "visibility": null,
            "width": null
          }
        },
        "5523fda0b2fa4849bf872df8911c86f8": {
          "model_module": "@jupyter-widgets/base",
          "model_name": "LayoutModel",
          "model_module_version": "1.2.0",
          "state": {
            "_model_module": "@jupyter-widgets/base",
            "_model_module_version": "1.2.0",
            "_model_name": "LayoutModel",
            "_view_count": null,
            "_view_module": "@jupyter-widgets/base",
            "_view_module_version": "1.2.0",
            "_view_name": "LayoutView",
            "align_content": null,
            "align_items": null,
            "align_self": null,
            "border": null,
            "bottom": null,
            "display": null,
            "flex": null,
            "flex_flow": null,
            "grid_area": null,
            "grid_auto_columns": null,
            "grid_auto_flow": null,
            "grid_auto_rows": null,
            "grid_column": null,
            "grid_gap": null,
            "grid_row": null,
            "grid_template_areas": null,
            "grid_template_columns": null,
            "grid_template_rows": null,
            "height": null,
            "justify_content": null,
            "justify_items": null,
            "left": null,
            "margin": null,
            "max_height": null,
            "max_width": null,
            "min_height": null,
            "min_width": null,
            "object_fit": null,
            "object_position": null,
            "order": null,
            "overflow": null,
            "overflow_x": null,
            "overflow_y": null,
            "padding": null,
            "right": null,
            "top": null,
            "visibility": null,
            "width": null
          }
        },
        "73dc1f8bfab149f5b14086e2ec185dd0": {
          "model_module": "@jupyter-widgets/controls",
          "model_name": "DescriptionStyleModel",
          "model_module_version": "1.5.0",
          "state": {
            "_model_module": "@jupyter-widgets/controls",
            "_model_module_version": "1.5.0",
            "_model_name": "DescriptionStyleModel",
            "_view_count": null,
            "_view_module": "@jupyter-widgets/base",
            "_view_module_version": "1.2.0",
            "_view_name": "StyleView",
            "description_width": ""
          }
        },
        "875f954f914e47a08d4fb24b94ad1a97": {
          "model_module": "@jupyter-widgets/base",
          "model_name": "LayoutModel",
          "model_module_version": "1.2.0",
          "state": {
            "_model_module": "@jupyter-widgets/base",
            "_model_module_version": "1.2.0",
            "_model_name": "LayoutModel",
            "_view_count": null,
            "_view_module": "@jupyter-widgets/base",
            "_view_module_version": "1.2.0",
            "_view_name": "LayoutView",
            "align_content": null,
            "align_items": null,
            "align_self": null,
            "border": null,
            "bottom": null,
            "display": null,
            "flex": null,
            "flex_flow": null,
            "grid_area": null,
            "grid_auto_columns": null,
            "grid_auto_flow": null,
            "grid_auto_rows": null,
            "grid_column": null,
            "grid_gap": null,
            "grid_row": null,
            "grid_template_areas": null,
            "grid_template_columns": null,
            "grid_template_rows": null,
            "height": null,
            "justify_content": null,
            "justify_items": null,
            "left": null,
            "margin": null,
            "max_height": null,
            "max_width": null,
            "min_height": null,
            "min_width": null,
            "object_fit": null,
            "object_position": null,
            "order": null,
            "overflow": null,
            "overflow_x": null,
            "overflow_y": null,
            "padding": null,
            "right": null,
            "top": null,
            "visibility": null,
            "width": null
          }
        },
        "f5e65d31808746ceb6d9c51b27b49fe6": {
          "model_module": "@jupyter-widgets/controls",
          "model_name": "ProgressStyleModel",
          "model_module_version": "1.5.0",
          "state": {
            "_model_module": "@jupyter-widgets/controls",
            "_model_module_version": "1.5.0",
            "_model_name": "ProgressStyleModel",
            "_view_count": null,
            "_view_module": "@jupyter-widgets/base",
            "_view_module_version": "1.2.0",
            "_view_name": "StyleView",
            "bar_color": null,
            "description_width": ""
          }
        },
        "17811ddb9ccd4d1eb1d63289709bdb14": {
          "model_module": "@jupyter-widgets/base",
          "model_name": "LayoutModel",
          "model_module_version": "1.2.0",
          "state": {
            "_model_module": "@jupyter-widgets/base",
            "_model_module_version": "1.2.0",
            "_model_name": "LayoutModel",
            "_view_count": null,
            "_view_module": "@jupyter-widgets/base",
            "_view_module_version": "1.2.0",
            "_view_name": "LayoutView",
            "align_content": null,
            "align_items": null,
            "align_self": null,
            "border": null,
            "bottom": null,
            "display": null,
            "flex": null,
            "flex_flow": null,
            "grid_area": null,
            "grid_auto_columns": null,
            "grid_auto_flow": null,
            "grid_auto_rows": null,
            "grid_column": null,
            "grid_gap": null,
            "grid_row": null,
            "grid_template_areas": null,
            "grid_template_columns": null,
            "grid_template_rows": null,
            "height": null,
            "justify_content": null,
            "justify_items": null,
            "left": null,
            "margin": null,
            "max_height": null,
            "max_width": null,
            "min_height": null,
            "min_width": null,
            "object_fit": null,
            "object_position": null,
            "order": null,
            "overflow": null,
            "overflow_x": null,
            "overflow_y": null,
            "padding": null,
            "right": null,
            "top": null,
            "visibility": null,
            "width": null
          }
        },
        "5fedaa1429054ff8ba87675de09ce334": {
          "model_module": "@jupyter-widgets/controls",
          "model_name": "DescriptionStyleModel",
          "model_module_version": "1.5.0",
          "state": {
            "_model_module": "@jupyter-widgets/controls",
            "_model_module_version": "1.5.0",
            "_model_name": "DescriptionStyleModel",
            "_view_count": null,
            "_view_module": "@jupyter-widgets/base",
            "_view_module_version": "1.2.0",
            "_view_name": "StyleView",
            "description_width": ""
          }
        }
      }
    }
  },
  "cells": [
    {
      "cell_type": "markdown",
      "metadata": {
        "id": "view-in-github",
        "colab_type": "text"
      },
      "source": [
        "<a href=\"https://colab.research.google.com/github/SamuelIsai/Ejercicios_en_clase_python/blob/main/Untitled18.ipynb\" target=\"_parent\"><img src=\"https://colab.research.google.com/assets/colab-badge.svg\" alt=\"Open In Colab\"/></a>"
      ]
    },
    {
      "cell_type": "code",
      "execution_count": null,
      "metadata": {
        "colab": {
          "base_uri": "https://localhost:8080/"
        },
        "id": "GthO7dLw4vic",
        "outputId": "66758fca-5373-4f6a-f2a9-dfaaac86d436"
      },
      "outputs": [
        {
          "output_type": "stream",
          "name": "stdout",
          "text": [
            "hola Mundo Bienvenidos a Programacion Computacional III, con Python\n",
            "Mi nombre es:  Samuel Mejía\n"
          ]
        }
      ],
      "source": [
        "print(\"hola Mundo\", \"Bienvenidos a Programacion Computacional III, con Python\")\n",
        "print(\"Mi nombre es: \", \"Samuel Mejía\")"
      ]
    },
    {
      "cell_type": "code",
      "source": [
        "nombre = \"Samuel Mejía\"\n",
        "print(\"Hola \", nombre, type(nombre))\n",
        "\n",
        "nombre = 18\n",
        "print(\"Tu edad es: \", nombre + 2, type(nombre))"
      ],
      "metadata": {
        "colab": {
          "base_uri": "https://localhost:8080/"
        },
        "id": "dB3-f8Gn4yk4",
        "outputId": "915f8272-dc8a-4747-e381-43ddc968fbf7"
      },
      "execution_count": null,
      "outputs": [
        {
          "output_type": "stream",
          "name": "stdout",
          "text": [
            "Hola  Samuel Mejía <class 'str'>\n",
            "Tu edad es:  20 <class 'int'>\n"
          ]
        }
      ]
    },
    {
      "cell_type": "code",
      "source": [
        "nombre = \"Samuel Mejía\"\n",
        "print(\"Tu nombre es: \", nombre, \"|\", \"Longitud de tu Nombre: \", len(nombre), \"Iniciales: \", nombre[0],nombre[7])"
      ],
      "metadata": {
        "colab": {
          "base_uri": "https://localhost:8080/"
        },
        "id": "aRKRFjuS41NC",
        "outputId": "5a51acea-1b1b-4c1e-9044-6151af2e62ce"
      },
      "execution_count": null,
      "outputs": [
        {
          "output_type": "stream",
          "name": "stdout",
          "text": [
            "Tu nombre es:  Samuel Mejía | Longitud de tu Nombre:  12 Iniciales:  S M\n"
          ]
        }
      ]
    },
    {
      "cell_type": "code",
      "source": [
        "num1 = 5\n",
        "num2 = 4.6\n",
        "resp = num1 + num2\n",
        "print(\"La suma de num1: \", num1 , \" + num2: \", num2, \"es igual a: \", resp)"
      ],
      "metadata": {
        "colab": {
          "base_uri": "https://localhost:8080/"
        },
        "id": "oHu8Quhl5_ij",
        "outputId": "9811c669-bf4e-4ebb-a3ef-a64d1aa3cccf"
      },
      "execution_count": null,
      "outputs": [
        {
          "output_type": "stream",
          "name": "stdout",
          "text": [
            "La suma de num1:  5  + num2:  4.6 es igual a:  9.6\n"
          ]
        }
      ]
    },
    {
      "cell_type": "code",
      "source": [
        "num1 = float(input(\"Ingrese un numero entero: \"))\n",
        "num2 = float(input(\"Ingrese otro Num decimal: \"))\n",
        "resp = num1 + num2\n",
        "print(\"Suma\", resp, type(resp))"
      ],
      "metadata": {
        "colab": {
          "base_uri": "https://localhost:8080/"
        },
        "id": "YXcphF5h6Cuo",
        "outputId": "428a42fb-bdc6-40b2-ce00-0a8a2a864479"
      },
      "execution_count": null,
      "outputs": [
        {
          "output_type": "stream",
          "name": "stdout",
          "text": [
            "Ingrese un numero entero: 5\n",
            "Ingrese otro Num decimal: 78.15\n",
            "Suma 83.15 <class 'float'>\n"
          ]
        }
      ]
    },
    {
      "cell_type": "code",
      "source": [
        "nombre = input(\"Dime tu nombre: \")\n",
        "print(nombre, type(nombre), len(nombre))\n",
        "\n",
        "print(nombre[0], nombre[1], nombre[2], nombre[3], nombre[4], nombre[5])"
      ],
      "metadata": {
        "colab": {
          "base_uri": "https://localhost:8080/"
        },
        "id": "T-JgiAHN6Os9",
        "outputId": "bfb1ede1-43d8-4072-8cf8-e5b9289a2d38"
      },
      "execution_count": null,
      "outputs": [
        {
          "output_type": "stream",
          "name": "stdout",
          "text": [
            "Dime tu nombre: Samuel\n",
            "Samuel <class 'str'> 6\n",
            "S a m u e l\n"
          ]
        }
      ]
    },
    {
      "cell_type": "code",
      "source": [
        "resp = 4 - 4 * 6 / 2 + 1\n",
        "print(resp)"
      ],
      "metadata": {
        "colab": {
          "base_uri": "https://localhost:8080/"
        },
        "id": "GFES6qp06Rwa",
        "outputId": "1b69dd71-0458-408c-848e-3f9314f4acc7"
      },
      "execution_count": null,
      "outputs": [
        {
          "output_type": "stream",
          "name": "stdout",
          "text": [
            "-7.0\n"
          ]
        }
      ]
    },
    {
      "cell_type": "code",
      "source": [
        "gustaProgramacion = True #False\n",
        "print(\"Te gusta programar: \", gustaProgramacion)\n",
        "\n",
        "gustaDiseno = True #False\n",
        "print(\"Te gusta diseñar: \", gustaDiseno)"
      ],
      "metadata": {
        "colab": {
          "base_uri": "https://localhost:8080/"
        },
        "id": "zk8aonPe8389",
        "outputId": "20395bc0-0d74-4c49-c9d0-7200776ff22b"
      },
      "execution_count": null,
      "outputs": [
        {
          "output_type": "stream",
          "name": "stdout",
          "text": [
            "Te gusta programar:  True\n",
            "Te gusta diseñar:  True\n"
          ]
        }
      ]
    },
    {
      "cell_type": "code",
      "source": [
        "def suma(num1, num2):\n",
        "  return num1 + num2\n",
        "print(\"La suma de 5 + 7 = \", suma(5,7))"
      ],
      "metadata": {
        "colab": {
          "base_uri": "https://localhost:8080/"
        },
        "id": "qStTRVHV9Flw",
        "outputId": "84c7a65a-d3e1-4649-e4e2-35780d528b68"
      },
      "execution_count": null,
      "outputs": [
        {
          "output_type": "stream",
          "name": "stdout",
          "text": [
            "La suma de 5 + 7 =  12\n"
          ]
        }
      ]
    },
    {
      "cell_type": "code",
      "source": [
        "def suma(num1, num2):\n",
        "  return num1 + num2\n",
        "num1 = float(input(\"Dime un numero: \"))\n",
        "num2 = float(input(\"Dime otro numero: \"))\n",
        "\n",
        "print(\"La suma es: \", suma(num1, num2))"
      ],
      "metadata": {
        "colab": {
          "base_uri": "https://localhost:8080/"
        },
        "id": "p1I335Hk9Vba",
        "outputId": "4db7eae8-efb6-485f-cf05-e92766c279b6"
      },
      "execution_count": null,
      "outputs": [
        {
          "output_type": "stream",
          "name": "stdout",
          "text": [
            "Dime un numero: 8.4\n",
            "Dime otro numero: 6.5\n",
            "La suma es:  14.9\n"
          ]
        }
      ]
    },
    {
      "cell_type": "code",
      "source": [
        "suma = lambda num1,num2: num1 + num2"
      ],
      "metadata": {
        "id": "y3l9VQEs9ifM"
      },
      "execution_count": null,
      "outputs": []
    },
    {
      "cell_type": "code",
      "source": [
        "num1 = float(input(\"Num1: \"))\n",
        "num2 = float(input(\"Num2: \"))\n",
        "print( \"La respuesta es: \", suma(num1, num2))"
      ],
      "metadata": {
        "colab": {
          "base_uri": "https://localhost:8080/"
        },
        "id": "ixffGbY29ntu",
        "outputId": "a57b53a5-9e41-4985-9650-6715813063c8"
      },
      "execution_count": null,
      "outputs": [
        {
          "output_type": "stream",
          "name": "stdout",
          "text": [
            "Num1: 0.9\n",
            "Num2: 5.6\n",
            "La respuesta es:  6.5\n"
          ]
        }
      ]
    },
    {
      "cell_type": "code",
      "source": [
        "lista = [2,7,8,6,9]\n",
        "cuadrado = lambda num: num**2\n",
        "print( type(cuadrado) )\n",
        "\n",
        "cubo  = lambda num: num**3\n",
        "potencia = lambda num, n: num**n\n",
        "\n",
        "print(\"Lista: \", lista, \" al cuadrado: \", list( map(cuadrado, lista) ), \" al cubo: \", list(map(cubo, lista)) )\n",
        "print( \"2 al cubo es: \", potencia(4, 5) )\n",
        "print(\"Lista Original: \", lista, \" al cubo: \", list(map(lambda num: num**3, lista)) )"
      ],
      "metadata": {
        "colab": {
          "base_uri": "https://localhost:8080/"
        },
        "id": "iPKXvTif9van",
        "outputId": "93609664-4596-43f2-d915-bad0fc477821"
      },
      "execution_count": null,
      "outputs": [
        {
          "output_type": "stream",
          "name": "stdout",
          "text": [
            "<class 'function'>\n",
            "Lista:  [2, 7, 8, 6, 9]  al cuadrado:  [4, 49, 64, 36, 81]  al cubo:  [8, 343, 512, 216, 729]\n",
            "2 al cubo es:  1024\n",
            "Lista Original:  [2, 7, 8, 6, 9]  al cubo:  [8, 343, 512, 216, 729]\n"
          ]
        }
      ]
    },
    {
      "cell_type": "code",
      "source": [
        "fpares = lambda num: num%2==0 # %=> Modulo=> devuelve el residuo de una division 5/2 = 1=>residuo\n",
        "fimpares = lambda num: num%2!=0\n",
        "print(\"Lista original: \", lista, \" solo pares: \", list(filter(fpares, lista)), \" los impares: \", list(filter(fimpares, lista)) )"
      ],
      "metadata": {
        "colab": {
          "base_uri": "https://localhost:8080/"
        },
        "id": "XsnfbH4j9_Nj",
        "outputId": "cc02bb1e-e40c-4f89-f500-8459ef0a2535"
      },
      "execution_count": null,
      "outputs": [
        {
          "output_type": "stream",
          "name": "stdout",
          "text": [
            "Lista original:  [2, 7, 8, 6, 9]  solo pares:  [2, 8, 6]  los impares:  [7, 9]\n"
          ]
        }
      ]
    },
    {
      "cell_type": "code",
      "source": [
        "suma = lambda a,b: a+b\n",
        "import functools\n",
        "print(\"Lista original: \", lista, \"la suma: \", functools.reduce(suma, lista), \" media Aritmetica: \", functools.reduce(suma, lista)/len(lista) )"
      ],
      "metadata": {
        "colab": {
          "base_uri": "https://localhost:8080/"
        },
        "id": "aMTidrMZ-Beg",
        "outputId": "07c2caac-fdaa-4305-8471-d925efe95300"
      },
      "execution_count": null,
      "outputs": [
        {
          "output_type": "stream",
          "name": "stdout",
          "text": [
            "Lista original:  [2, 7, 8, 6, 9] la suma:  32  media Aritmetica:  6.4\n"
          ]
        }
      ]
    },
    {
      "cell_type": "code",
      "source": [
        "c= 27\n",
        "def convertirCaF(c):\n",
        "  return c*9/5 + 32\n",
        "\n",
        "print(\"Celsius a F: \", convertirCaF(c))"
      ],
      "metadata": {
        "colab": {
          "base_uri": "https://localhost:8080/"
        },
        "id": "qOhZcxQT-Etp",
        "outputId": "cc6631b6-ddbd-4212-da43-cb7ff8f78f2e"
      },
      "execution_count": null,
      "outputs": [
        {
          "output_type": "stream",
          "name": "stdout",
          "text": [
            "Celsius a F:  80.6\n"
          ]
        }
      ]
    },
    {
      "cell_type": "code",
      "source": [
        "gradosCiudades = [27, 30, 32, 35, 40, 45]\n",
        "print(gradosCiudades, \"Respuesta: \", list(map(convertirCaF, gradosCiudades)) )"
      ],
      "metadata": {
        "colab": {
          "base_uri": "https://localhost:8080/"
        },
        "id": "tVHMM7Lo_rlZ",
        "outputId": "fcd01b7d-55d4-496d-b8a7-cd638e63e0aa"
      },
      "execution_count": null,
      "outputs": [
        {
          "output_type": "stream",
          "name": "stdout",
          "text": [
            "[27, 30, 32, 35, 40, 45] Respuesta:  [80.6, 86.0, 89.6, 95.0, 104.0, 113.0]\n"
          ]
        }
      ]
    },
    {
      "cell_type": "code",
      "source": [
        "gradosf = [80.6, 86, 89.6, 95, 104, 113]\n",
        "def convertirFaC(f):\n",
        "  return (f-32) * 5/9\n",
        "\n",
        "print(gradosf, \" Respuesta: \", list(map(convertirFaC, gradosf)) )"
      ],
      "metadata": {
        "colab": {
          "base_uri": "https://localhost:8080/"
        },
        "id": "d4zw79yt_31q",
        "outputId": "f600af67-af92-4ac2-c69d-3384d0816f64"
      },
      "execution_count": null,
      "outputs": [
        {
          "output_type": "stream",
          "name": "stdout",
          "text": [
            "[80.6, 86, 89.6, 95, 104, 113]  Respuesta:  [26.999999999999996, 30.0, 32.0, 35.0, 40.0, 45.0]\n"
          ]
        }
      ]
    },
    {
      "cell_type": "markdown",
      "source": [
        "Tarea:\n",
        "\n",
        "Hacer un algoritmo en python que convierta de grados Celsius a Kelvin y viceversa, usando funciones de usuario y lambda.\n",
        "\n",
        "Hacer un algoritmo en python que encuentre la Nota Final de Ciclo de una Materia en Particular usando funciones de usuario y lambda.\n",
        "\n",
        "[ ]\n"
      ],
      "metadata": {
        "id": "HS43WAZ8AIEL"
      }
    },
    {
      "cell_type": "code",
      "source": [
        "edades = (2,5,12,18,65,100) #La tupla es inmutable, es decir, no podemos cambiar su valor y se declara con parenteis pero se usa con corchetes\n",
        "print( edades, \"La edad de bebe es la mejor: \", edades[0] )\n",
        "\n",
        "#edades[0] = 1, es inmutable, no se puede modificar"
      ],
      "metadata": {
        "colab": {
          "base_uri": "https://localhost:8080/"
        },
        "id": "nQ_W-VAFAGRl",
        "outputId": "46917451-1665-4250-d4f7-7177b4a391ce"
      },
      "execution_count": null,
      "outputs": [
        {
          "output_type": "stream",
          "name": "stdout",
          "text": [
            "(2, 5, 12, 18, 65, 100) La edad de bebe es la mejor:  2\n"
          ]
        }
      ]
    },
    {
      "cell_type": "code",
      "source": [
        "print(\"Edades: \", edades, \"Responsabilidades: \", tuple( filter(lambda e:e>=18, edades) ) )\n",
        "print(\"Edades: \", edades, \" Al cuadrado: \", tuple(map(lambda n:n**2, edades)) )"
      ],
      "metadata": {
        "colab": {
          "base_uri": "https://localhost:8080/"
        },
        "id": "ijIDFLOFAYew",
        "outputId": "e6012fc2-af58-4578-a533-263b6188daf1"
      },
      "execution_count": null,
      "outputs": [
        {
          "output_type": "stream",
          "name": "stdout",
          "text": [
            "Edades:  (2, 5, 12, 18, 65, 100) Responsabilidades:  (18, 65, 100)\n",
            "Edades:  (2, 5, 12, 18, 65, 100)  Al cuadrado:  (4, 25, 144, 324, 4225, 10000)\n"
          ]
        }
      ]
    },
    {
      "cell_type": "code",
      "source": [
        "notas = [6,8,10] #Listas, son mutables, es decir, podemos cambiar sus valores y se declaran y usan con corchetes\n",
        "print(\"Notas Originales: \", notas)\n",
        "\n",
        "notas[0] = 9\n",
        "print(\"Notas: \", notas)"
      ],
      "metadata": {
        "colab": {
          "base_uri": "https://localhost:8080/"
        },
        "id": "5CKNRXkKAdax",
        "outputId": "3a78ac32-e400-4262-a28b-1bab1d42768f"
      },
      "execution_count": null,
      "outputs": [
        {
          "output_type": "stream",
          "name": "stdout",
          "text": [
            "Notas Originales:  [6, 8, 10]\n",
            "Notas:  [9, 8, 10]\n"
          ]
        }
      ]
    },
    {
      "cell_type": "code",
      "source": [
        "notasProgra = [\n",
        "    [9,8,10], #C1\n",
        "    [10,6,9], #C2\n",
        "    [10,9,10] #C3\n",
        "]\n",
        "print(notasProgra)"
      ],
      "metadata": {
        "colab": {
          "base_uri": "https://localhost:8080/"
        },
        "id": "CaKwcphTAwok",
        "outputId": "1f00292a-35fe-4ae9-8f8a-0da30a867082"
      },
      "execution_count": null,
      "outputs": [
        {
          "output_type": "stream",
          "name": "stdout",
          "text": [
            "[[9, 8, 10], [10, 6, 9], [10, 9, 10]]\n"
          ]
        }
      ]
    },
    {
      "cell_type": "code",
      "source": [
        "print(\"Lab2 de C1\", notasProgra[0][1] )"
      ],
      "metadata": {
        "colab": {
          "base_uri": "https://localhost:8080/"
        },
        "id": "c2kEoRN4A1pJ",
        "outputId": "f23092dc-2c99-44d8-d1c5-79a8dcbc1c89"
      },
      "execution_count": null,
      "outputs": [
        {
          "output_type": "stream",
          "name": "stdout",
          "text": [
            "Lab2 de C1 8\n"
          ]
        }
      ]
    },
    {
      "cell_type": "code",
      "source": [
        "notas = [\n",
        "    [ #Progra III\n",
        "      [9,8,[8,9]], #C1\n",
        "      [10,6,9], #C2\n",
        "      [10,9,10] #C3\n",
        "    ], \n",
        "    [ #Estadistica\n",
        "      [5,7,10], #C1\n",
        "      [9,8,9],  #C2\n",
        "      [10,10,10]#C3\n",
        "    ],\n",
        "    [ #BD\n",
        "      [7,8,9],  #C1\n",
        "      [9,8,7],  #C2\n",
        "      [10,9,10],#C3\n",
        "    ], \n",
        "    [ #Ingles\n",
        "      [8,9,10], #C1\n",
        "      [9,10,9], #C2\n",
        "      [10,10,10]#C3\n",
        "    ],\n",
        "    [ #Circuito Digitales\n",
        "      [5,8,7], #C1\n",
        "      [8,7,9], #C2\n",
        "      [9,10,9] #C3\n",
        "    ]\n",
        "]\n",
        "import functools\n",
        "print( \"Lab1 de Estadistica en C1\", notas[1][0][0], \"Nota de Parcial C1 de Progra III: \",functools.reduce(lambda a,b: a+b, notas[0][0][2])/2 )"
      ],
      "metadata": {
        "colab": {
          "base_uri": "https://localhost:8080/"
        },
        "id": "vUWzdfaPA5ON",
        "outputId": "b50462ed-d3b3-43f0-bfac-eeb08c28f4fb"
      },
      "execution_count": null,
      "outputs": [
        {
          "output_type": "stream",
          "name": "stdout",
          "text": [
            "Lab1 de Estadistica en C1 5 Nota de Parcial C1 de Progra III:  8.5\n"
          ]
        }
      ]
    },
    {
      "cell_type": "code",
      "source": [
        "#diccionarios (JSON): Se declaran con llaves pero se usan con corchetes\n",
        "misNotas = {\n",
        "    \"Programa III\":{\n",
        "        \"C1\": {\n",
        "          \"Lab1\":9,\"Lab2\":8, \"Parcial\":{\"ParteI\":8, \"ParteII\":9}\n",
        "        },\n",
        "        \"C2\":{\n",
        "          \"Lab1\":10,\"Lab2\":6, \"Parcial\":9\n",
        "        },\n",
        "        \"C3\":{\n",
        "          \"Lab1\":10,\"Lab2\":6, \"Parcial\":9\n",
        "        }\n",
        "    },\"Estadistica\":{\n",
        "        \"C1\": {\n",
        "          \"Lab1\":5,\"Lab2\":7, \"Parcial\":10\n",
        "        },\n",
        "        \"C2\":{\n",
        "          \"Lab1\":9,\"Lab2\":8, \"Parcial\":9\n",
        "        },\n",
        "        \"C3\":{\n",
        "          \"Lab1\":10,\"Lab2\":10, \"Parcial\":10\n",
        "        }\n",
        "    }, \"BD\":{\n",
        "        \"C1\": {\n",
        "          \"Lab1\":7,\"Lab2\":8, \"Parcial\":9\n",
        "        },\n",
        "        \"C2\":{\n",
        "          \"Lab1\":9,\"Lab2\":8, \"Parcial\":7\n",
        "        },\n",
        "        \"C3\":{\n",
        "          \"Lab1\":10,\"Lab2\":9, \"Parcial\":10\n",
        "        }\n",
        "    }, \"Ingles\":{\n",
        "        \"C1\": {\n",
        "          \"Lab1\":8,\"Lab2\":9, \"Parcial\":10\n",
        "        },\n",
        "        \"C2\":{\n",
        "          \"Lab1\":9,\"Lab2\":10, \"Parcial\":9\n",
        "        },\n",
        "        \"C3\":{\n",
        "          \"Lab1\":10,\"Lab2\":10, \"Parcial\":10\n",
        "        }\n",
        "    }, \"Circuitos Digitales\":{\n",
        "        \"C1\": {\n",
        "          \"Lab1\":5,\"Lab2\":8, \"Parcial\":7\n",
        "        },\n",
        "        \"C2\":{\n",
        "          \"Lab1\":8,\"Lab2\":7, \"Parcial\":9\n",
        "        },\n",
        "        \"C3\":{\n",
        "          \"Lab1\":9,\"Lab2\":10, \"Parcial\":9\n",
        "        }\n",
        "    }\n",
        "}\n",
        "print(\"Lab1 en C1 de Estadistica: \", misNotas[\"Estadistica\"][\"C1\"][\"Lab1\"])\n",
        "misNotas[\"Estadistica\"][\"C1\"][\"Lab1\"] = float(input(\"Lab1: \"))\n",
        "print(\"Lab1 en C1 de Estadistica: \", misNotas[\"Estadistica\"][\"C1\"][\"Lab1\"])"
      ],
      "metadata": {
        "colab": {
          "base_uri": "https://localhost:8080/"
        },
        "id": "ZZ8xGvl1BHXq",
        "outputId": "4acc7068-4886-45e7-8738-f206cab0facc"
      },
      "execution_count": null,
      "outputs": [
        {
          "output_type": "stream",
          "name": "stdout",
          "text": [
            "Lab1 en C1 de Estadistica:  5\n",
            "Lab1: 7\n",
            "Lab1 en C1 de Estadistica:  7.0\n"
          ]
        }
      ]
    },
    {
      "cell_type": "code",
      "source": [
        "edad = int(input(\"Dime tu edad: \"))\n",
        "if(edad<=2):\n",
        "  print(\"Eres un bebe\")\n",
        "elif(edad<12):\n",
        "  print(\"Eres un niño\")\n",
        "elif( edad<18 ):\n",
        "  print(\"Eres un adolescente\")\n",
        "elif( edad<=55 ):\n",
        "  print(\"Eres un adulto joven\")\n",
        "elif(edad<=65):\n",
        "  print(\"Eres un Adulto\")\n",
        "elif(edad<=85):\n",
        "  print(\"Eres un adulto mayor\")\n",
        "elif(edad<=130):\n",
        "  print(\"Larga vidad...\")\n",
        "else:\n",
        "  print(\"Edad incorrecto\")\n",
        "print(\"Termino\")"
      ],
      "metadata": {
        "colab": {
          "base_uri": "https://localhost:8080/"
        },
        "id": "7v15wNgmBSZ0",
        "outputId": "45f0c8f6-7aeb-4554-d106-b821a3f79bca"
      },
      "execution_count": null,
      "outputs": [
        {
          "output_type": "stream",
          "name": "stdout",
          "text": [
            "Dime tu edad: 17\n",
            "Eres un adolescente\n",
            "Termino\n"
          ]
        }
      ]
    },
    {
      "cell_type": "code",
      "source": [
        "#hacer un programa que genera la tabla de multiplicar de x numero ingreso por el usuario\n",
        "nt = int(input(\"Dime la tabla de multiplicar a generar: \"))\n",
        "i=1\n",
        "while i<=10:\n",
        "  print( nt,\"X\",i,\"=\", nt*i )\n",
        "  i+=1"
      ],
      "metadata": {
        "colab": {
          "base_uri": "https://localhost:8080/"
        },
        "id": "8af98bPzBWjb",
        "outputId": "8898361c-6bb0-4b54-ca15-6fee3fe29e51"
      },
      "execution_count": null,
      "outputs": [
        {
          "output_type": "stream",
          "name": "stdout",
          "text": [
            "Dime la tabla de multiplicar a generar: 8\n",
            "8 X 1 = 8\n",
            "8 X 2 = 16\n",
            "8 X 3 = 24\n",
            "8 X 4 = 32\n",
            "8 X 5 = 40\n",
            "8 X 6 = 48\n",
            "8 X 7 = 56\n",
            "8 X 8 = 64\n",
            "8 X 9 = 72\n",
            "8 X 10 = 80\n"
          ]
        }
      ]
    },
    {
      "cell_type": "code",
      "source": [
        "#hacer un programa que genera la tabla de multiplicar de x numero ingreso por el usuario\n",
        "nt = int(input(\"Dime la tabla que deseas generar: \"))\n",
        "for i in range(1,11): #i<11\n",
        "  print(nt,\"X\",i,\"=\", nt*i)"
      ],
      "metadata": {
        "colab": {
          "base_uri": "https://localhost:8080/"
        },
        "id": "s0N9AsLKEZzO",
        "outputId": "cdbf02b8-c1a2-4295-ba05-52f9139761df"
      },
      "execution_count": null,
      "outputs": [
        {
          "output_type": "stream",
          "name": "stdout",
          "text": [
            "Dime la tabla que deseas generar: 8\n",
            "8 X 1 = 8\n",
            "8 X 2 = 16\n",
            "8 X 3 = 24\n",
            "8 X 4 = 32\n",
            "8 X 5 = 40\n",
            "8 X 6 = 48\n",
            "8 X 7 = 56\n",
            "8 X 8 = 64\n",
            "8 X 9 = 72\n",
            "8 X 10 = 80\n"
          ]
        }
      ]
    },
    {
      "cell_type": "code",
      "source": [
        "#hacer un programa que genera la tabla de multiplicar de x numero ingreso por el usuario\n",
        "s = \"s\"\n",
        "while s==\"s\":\n",
        "  nt = int(input(\"Dime una tabla: \"))\n",
        "  for i in range(1, 11):\n",
        "    print(nt, \"X\",i,\"=\", nt*i)\n",
        "  s = input(\"Desea continua presione la tecla s, sino cualquier otra\")"
      ],
      "metadata": {
        "colab": {
          "base_uri": "https://localhost:8080/"
        },
        "id": "cWjZnNiEEt84",
        "outputId": "fe8c5af1-29db-421c-9dc1-ea7988158287"
      },
      "execution_count": null,
      "outputs": [
        {
          "name": "stdout",
          "output_type": "stream",
          "text": [
            "Dime una tabla: 8\n",
            "8 X 1 = 8\n",
            "8 X 2 = 16\n",
            "8 X 3 = 24\n",
            "8 X 4 = 32\n",
            "8 X 5 = 40\n",
            "8 X 6 = 48\n",
            "8 X 7 = 56\n",
            "8 X 8 = 64\n",
            "8 X 9 = 72\n",
            "8 X 10 = 80\n",
            "Desea continua presione la tecla s, sino cualquier otrad\n"
          ]
        }
      ]
    },
    {
      "cell_type": "code",
      "source": [
        "#conversores\n",
        "etiquetas = [\n",
        "    0,\n",
        "    [\"Seleccione un moneda\", \"1. Dolar\", \"2. Colon SV\", \"3. Quetzal\", \"4. Lempira\", \"5. Cordoba\"],\n",
        "    [\"Selecione un almacenamiento\", \"1. MegaByte\", \"2. Bit\", \"3. Byte\", \"4. KiloByte\", \"5. GigaByte\"]\n",
        "    ,3,4,5]\n",
        "\n",
        "valores = [0,\n",
        "  [0,1, 8.75, 7.73, 24.49, 35.96],\n",
        "  [0,1, 8388608, 1048576, 1024, 0.0009765625]  \n",
        "]\n",
        "\n",
        "def convertir(opcion, de, a, cantidad):\n",
        "  return valores[opcion][a] / valores[opcion][de] * cantidad\n",
        "\n",
        "print(\"** MENU **\")\n",
        "print(\"1. Monedas\")\n",
        "print(\"2. Almacenamiento\")\n",
        "opcion = int(input(\"Opcion: \"))\n",
        "\n",
        "print( etiquetas[opcion] )\n",
        "de = int(input(\"DE: \"))\n",
        "a = int(input(\"A: \"))\n",
        "cantidad = float(input(\"Cantidad: \"))\n",
        "\n",
        "print( etiquetas[opcion][de], \" en \", etiquetas[opcion][a], \" equivale a: \", convertir(opcion, de, a, cantidad) )"
      ],
      "metadata": {
        "colab": {
          "base_uri": "https://localhost:8080/"
        },
        "id": "P2A6qFK5E2t4",
        "outputId": "63c44025-80b7-4d24-b14a-0e205ea92b96"
      },
      "execution_count": null,
      "outputs": [
        {
          "output_type": "stream",
          "name": "stdout",
          "text": [
            "** MENU **\n",
            "1. Monedas\n",
            "2. Almacenamiento\n",
            "Opcion: 1\n",
            "['Seleccione un moneda', '1. Dolar', '2. Colon SV', '3. Quetzal', '4. Lempira', '5. Cordoba']\n",
            "DE: 1\n",
            "A: 3\n",
            "Cantidad: 10\n",
            "1. Dolar  en  3. Quetzal  equivale a:  77.30000000000001\n"
          ]
        }
      ]
    },
    {
      "cell_type": "code",
      "source": [
        "#POLIMORFISMO\n",
        "#el polimorfismo lo tiene el signo (objeto) +\n",
        "nombre = \"Samuel Mejía\"\n",
        "saludo = \"Hola \" + nombre\n",
        "print(saludo)\n",
        "\n",
        "num1 = 5\n",
        "num2 = 4.6\n",
        "resp = num1 + num2\n",
        "mensaje = \"Respuesta \"+ str(resp)\n",
        "print(mensaje)\n",
        "\n",
        "#VB\n",
        "#num1 = 5 #Asignacion\n",
        "#if num1=5: #comparacion\n",
        "#  print(\"La variable num1 es igual a 5\")"
      ],
      "metadata": {
        "colab": {
          "base_uri": "https://localhost:8080/"
        },
        "id": "gxG9PucZFjWo",
        "outputId": "7dfe6145-be88-4279-cc57-4c37e84244c3"
      },
      "execution_count": null,
      "outputs": [
        {
          "output_type": "stream",
          "name": "stdout",
          "text": [
            "Hola Samuel Mejía\n",
            "Respuesta 9.6\n"
          ]
        }
      ]
    },
    {
      "cell_type": "code",
      "source": [
        "!pip --version\n",
        "!pip -V"
      ],
      "metadata": {
        "colab": {
          "base_uri": "https://localhost:8080/"
        },
        "id": "Kr1RF8DnFzlQ",
        "outputId": "96793719-d7c2-4643-f1d4-d25a29bec416"
      },
      "execution_count": null,
      "outputs": [
        {
          "output_type": "stream",
          "name": "stdout",
          "text": [
            "pip 21.1.3 from /usr/local/lib/python3.7/dist-packages/pip (python 3.7)\n",
            "pip 21.1.3 from /usr/local/lib/python3.7/dist-packages/pip (python 3.7)\n"
          ]
        }
      ]
    },
    {
      "cell_type": "code",
      "source": [
        "lenguajes = [\"VB\",\"C#\",\"JAVA\",\"XML\",\"PYTHON\",\"PHP\",\"HTML\",\"JS\",\"CSS\"]\n",
        "#print( len(lenguajes), lenguajes.count(\"VB\") )\n",
        "print(lenguajes[2])\n",
        "#for lenguaje in lenguajes:\n",
        "#  print(lenguaje)"
      ],
      "metadata": {
        "colab": {
          "base_uri": "https://localhost:8080/"
        },
        "id": "ObgjyrkZGClb",
        "outputId": "07efb832-b29a-4db2-9eda-93d821487248"
      },
      "execution_count": null,
      "outputs": [
        {
          "output_type": "stream",
          "name": "stdout",
          "text": [
            "JAVA\n"
          ]
        }
      ]
    },
    {
      "cell_type": "code",
      "source": [
        "lenguajes = {\n",
        "    \"fundamentos\":\"VB\",\n",
        "    \"programacion_i\"  : \"C#\",\n",
        "    \"programacion_ii\" : [\"JAVA\", \"XML\"],\n",
        "    \"programacion_iii\": [\"PYTHON\", \"HTML\", \"JS\", \"CSS\"],\n",
        "    \"programacion)iv\" : [\"PHP\", \"HTML\", \"JS\", \"CSS\"]\n",
        "}\n",
        "#print( len(lenguajes[\"programacion_iii\"]) )\n",
        "for key in lenguajes:\n",
        "  print( lenguajes[key], type(lenguajes[key]) )"
      ],
      "metadata": {
        "colab": {
          "base_uri": "https://localhost:8080/"
        },
        "id": "-iPqYD27GGcZ",
        "outputId": "6b14a08b-525a-4ca6-edac-dcc950cb7cc3"
      },
      "execution_count": null,
      "outputs": [
        {
          "output_type": "stream",
          "name": "stdout",
          "text": [
            "VB <class 'str'>\n",
            "C# <class 'str'>\n",
            "['JAVA', 'XML'] <class 'list'>\n",
            "['PYTHON', 'HTML', 'JS', 'CSS'] <class 'list'>\n",
            "['PHP', 'HTML', 'JS', 'CSS'] <class 'list'>\n"
          ]
        }
      ]
    },
    {
      "cell_type": "code",
      "source": [
        "#Libreraria pandas\n",
        "import pandas as pd"
      ],
      "metadata": {
        "id": "22JCcpQ6GQp6"
      },
      "execution_count": null,
      "outputs": []
    },
    {
      "cell_type": "code",
      "source": [
        "lenguajes = pd.Series(\n",
        "    [\"VB\",\"C#\",\"JAVA\",\"XML\",\"PYTHON\",\"PHP\",\"HTML\",\"JS\",\"CSS\"],\n",
        "    index=[5,1,2,2,3,4,4,4,4]\n",
        ")\n",
        "print(lenguajes[2])"
      ],
      "metadata": {
        "colab": {
          "base_uri": "https://localhost:8080/"
        },
        "id": "mXbqg4y-Gbdk",
        "outputId": "4a21909f-5c4a-477f-83ae-209e10001585"
      },
      "execution_count": null,
      "outputs": [
        {
          "output_type": "stream",
          "name": "stdout",
          "text": [
            "2    JAVA\n",
            "2     XML\n",
            "dtype: object\n"
          ]
        }
      ]
    },
    {
      "cell_type": "code",
      "source": [
        "lenguajes = {\n",
        "    \"fundamentos\":\"VB\",\n",
        "    1:\"C#\",\n",
        "    2:\"JAVA\"\n",
        "}\n",
        "pdLenguajes = pd.Series(lenguajes)\n",
        "print(pdLenguajes[\"fundamentos\"])"
      ],
      "metadata": {
        "colab": {
          "base_uri": "https://localhost:8080/"
        },
        "id": "J091goyMGgwe",
        "outputId": "8cb83cdf-e780-4f89-94e3-b0cb189647a9"
      },
      "execution_count": null,
      "outputs": [
        {
          "output_type": "stream",
          "name": "stdout",
          "text": [
            "VB\n"
          ]
        }
      ]
    },
    {
      "cell_type": "markdown",
      "source": [
        "**SEMANA 10**"
      ],
      "metadata": {
        "id": "RGrc1C-oSPWw"
      }
    },
    {
      "cell_type": "code",
      "source": [
        "# Importar las librerias\n",
        "import tensorflow as tf\n",
        "import matplotlib.pyplot as plt\n",
        "import pandas as pd\n",
        "import seaborn as sb"
      ],
      "metadata": {
        "id": "2Syowhn-Skos"
      },
      "execution_count": null,
      "outputs": []
    },
    {
      "cell_type": "code",
      "source": [
        "conversor = pd.read_csv('/content/Conversor.csv', sep = \",\")\n",
        "print(conversor)"
      ],
      "metadata": {
        "id": "4-oY1Is9XQ6R"
      },
      "execution_count": null,
      "outputs": []
    },
    {
      "cell_type": "code",
      "source": [
        "# Datos de entrenamiento \n",
        "C = conversor[\"C\"]\n",
        "F = conversor[\"F\"]\n",
        "print(C)"
      ],
      "metadata": {
        "id": "icvCTevVYT3I"
      },
      "execution_count": null,
      "outputs": []
    },
    {
      "cell_type": "code",
      "source": [
        "# Graficar los datos de entrenamiento\n",
        "sb.scatterplot(C, F)\n",
        "plt.show()"
      ],
      "metadata": {
        "id": "vZehln0vYymc"
      },
      "execution_count": null,
      "outputs": []
    },
    {
      "cell_type": "code",
      "source": [
        "# Modelo de entrenamiento, con 1 capa densa (Oculta)\n",
        "modelo = tf.keras.Sequential()\n",
        "modelo.add(tf.keras.layers.Dense(units=1, input_shape=[1]))"
      ],
      "metadata": {
        "id": "Kju70BFmZCmj"
      },
      "execution_count": null,
      "outputs": []
    },
    {
      "cell_type": "code",
      "source": [
        "# Compilar el modelo \n",
        "modelo.compile(optimizer = tf.keras.optimizers.Adam(1), loss = \"mean_squared_error\")"
      ],
      "metadata": {
        "id": "9K1Y_PlHZ7ja"
      },
      "execution_count": null,
      "outputs": []
    },
    {
      "cell_type": "code",
      "source": [
        "# Entrenar el modelo\n",
        "epocas = modelo.fit(C, F, epochs = 100, verbose = 1)"
      ],
      "metadata": {
        "id": "QNK5lCVpauLu"
      },
      "execution_count": null,
      "outputs": []
    },
    {
      "cell_type": "code",
      "source": [
        "# probar nuestra IA\n",
        "resp = modelo.predict([5778])\n",
        "print(resp)"
      ],
      "metadata": {
        "id": "J4Nxe68Xbu9K",
        "outputId": "7eee3aeb-a5ae-48f4-99a6-12c1e2e6defa",
        "colab": {
          "base_uri": "https://localhost:8080/"
        }
      },
      "execution_count": null,
      "outputs": [
        {
          "output_type": "stream",
          "name": "stdout",
          "text": [
            "[[10422.237]]\n"
          ]
        }
      ]
    },
    {
      "cell_type": "code",
      "source": [
        "temperatura = pd.read_csv('/content/temperatura.csv', sep = \",\")\n",
        "print(temperatura)"
      ],
      "metadata": {
        "id": "A9Qe5riBfzXR"
      },
      "execution_count": null,
      "outputs": []
    },
    {
      "cell_type": "code",
      "source": [
        "Ce = temperatura[\"Ce\"]\n",
        "Ke = temperatura[\"Ke\"]\n",
        "print(Ce)"
      ],
      "metadata": {
        "id": "Z2EOu-ltgIeo"
      },
      "execution_count": null,
      "outputs": []
    },
    {
      "cell_type": "code",
      "source": [
        "modelos = tf.keras.Sequential()\n",
        "modelos.add(tf.keras.layers.Dense(units = 1, input_shape = [1]))"
      ],
      "metadata": {
        "id": "APpRJvEGgWwR"
      },
      "execution_count": null,
      "outputs": []
    },
    {
      "cell_type": "code",
      "source": [
        "modelos.compile(optimizer = tf.keras.optimizers.Adam(1), loss = \"mean_squared_error\")"
      ],
      "metadata": {
        "id": "L0MM5fKpguH3"
      },
      "execution_count": null,
      "outputs": []
    },
    {
      "cell_type": "code",
      "source": [
        "epoc = modelos.fit(Ce, Ke, epochs = 100, verbose = 1)"
      ],
      "metadata": {
        "id": "QQ9iFST7g-cK",
        "outputId": "97db57ce-8b6c-44a4-a5bc-c1ef7f5c9f04",
        "colab": {
          "base_uri": "https://localhost:8080/",
          "height": 1000
        }
      },
      "execution_count": null,
      "outputs": [
        {
          "output_type": "stream",
          "name": "stdout",
          "text": [
            "Epoch 1/100\n"
          ]
        },
        {
          "output_type": "error",
          "ename": "UnimplementedError",
          "evalue": "ignored",
          "traceback": [
            "\u001b[0;31m---------------------------------------------------------------------------\u001b[0m",
            "\u001b[0;31mUnimplementedError\u001b[0m                        Traceback (most recent call last)",
            "\u001b[0;32m<ipython-input-86-39664b515dda>\u001b[0m in \u001b[0;36m<module>\u001b[0;34m\u001b[0m\n\u001b[0;32m----> 1\u001b[0;31m \u001b[0mepoc\u001b[0m \u001b[0;34m=\u001b[0m \u001b[0mmodelos\u001b[0m\u001b[0;34m.\u001b[0m\u001b[0mfit\u001b[0m\u001b[0;34m(\u001b[0m\u001b[0mCe\u001b[0m\u001b[0;34m,\u001b[0m \u001b[0mKe\u001b[0m\u001b[0;34m,\u001b[0m \u001b[0mepochs\u001b[0m \u001b[0;34m=\u001b[0m \u001b[0;36m100\u001b[0m\u001b[0;34m,\u001b[0m \u001b[0mverbose\u001b[0m \u001b[0;34m=\u001b[0m \u001b[0;36m1\u001b[0m\u001b[0;34m)\u001b[0m\u001b[0;34m\u001b[0m\u001b[0;34m\u001b[0m\u001b[0m\n\u001b[0m",
            "\u001b[0;32m/usr/local/lib/python3.7/dist-packages/keras/utils/traceback_utils.py\u001b[0m in \u001b[0;36merror_handler\u001b[0;34m(*args, **kwargs)\u001b[0m\n\u001b[1;32m     65\u001b[0m     \u001b[0;32mexcept\u001b[0m \u001b[0mException\u001b[0m \u001b[0;32mas\u001b[0m \u001b[0me\u001b[0m\u001b[0;34m:\u001b[0m  \u001b[0;31m# pylint: disable=broad-except\u001b[0m\u001b[0;34m\u001b[0m\u001b[0;34m\u001b[0m\u001b[0m\n\u001b[1;32m     66\u001b[0m       \u001b[0mfiltered_tb\u001b[0m \u001b[0;34m=\u001b[0m \u001b[0m_process_traceback_frames\u001b[0m\u001b[0;34m(\u001b[0m\u001b[0me\u001b[0m\u001b[0;34m.\u001b[0m\u001b[0m__traceback__\u001b[0m\u001b[0;34m)\u001b[0m\u001b[0;34m\u001b[0m\u001b[0;34m\u001b[0m\u001b[0m\n\u001b[0;32m---> 67\u001b[0;31m       \u001b[0;32mraise\u001b[0m \u001b[0me\u001b[0m\u001b[0;34m.\u001b[0m\u001b[0mwith_traceback\u001b[0m\u001b[0;34m(\u001b[0m\u001b[0mfiltered_tb\u001b[0m\u001b[0;34m)\u001b[0m \u001b[0;32mfrom\u001b[0m \u001b[0;32mNone\u001b[0m\u001b[0;34m\u001b[0m\u001b[0;34m\u001b[0m\u001b[0m\n\u001b[0m\u001b[1;32m     68\u001b[0m     \u001b[0;32mfinally\u001b[0m\u001b[0;34m:\u001b[0m\u001b[0;34m\u001b[0m\u001b[0;34m\u001b[0m\u001b[0m\n\u001b[1;32m     69\u001b[0m       \u001b[0;32mdel\u001b[0m \u001b[0mfiltered_tb\u001b[0m\u001b[0;34m\u001b[0m\u001b[0;34m\u001b[0m\u001b[0m\n",
            "\u001b[0;32m/usr/local/lib/python3.7/dist-packages/tensorflow/python/eager/execute.py\u001b[0m in \u001b[0;36mquick_execute\u001b[0;34m(op_name, num_outputs, inputs, attrs, ctx, name)\u001b[0m\n\u001b[1;32m     53\u001b[0m     \u001b[0mctx\u001b[0m\u001b[0;34m.\u001b[0m\u001b[0mensure_initialized\u001b[0m\u001b[0;34m(\u001b[0m\u001b[0;34m)\u001b[0m\u001b[0;34m\u001b[0m\u001b[0;34m\u001b[0m\u001b[0m\n\u001b[1;32m     54\u001b[0m     tensors = pywrap_tfe.TFE_Py_Execute(ctx._handle, device_name, op_name,\n\u001b[0;32m---> 55\u001b[0;31m                                         inputs, attrs, num_outputs)\n\u001b[0m\u001b[1;32m     56\u001b[0m   \u001b[0;32mexcept\u001b[0m \u001b[0mcore\u001b[0m\u001b[0;34m.\u001b[0m\u001b[0m_NotOkStatusException\u001b[0m \u001b[0;32mas\u001b[0m \u001b[0me\u001b[0m\u001b[0;34m:\u001b[0m\u001b[0;34m\u001b[0m\u001b[0;34m\u001b[0m\u001b[0m\n\u001b[1;32m     57\u001b[0m     \u001b[0;32mif\u001b[0m \u001b[0mname\u001b[0m \u001b[0;32mis\u001b[0m \u001b[0;32mnot\u001b[0m \u001b[0;32mNone\u001b[0m\u001b[0;34m:\u001b[0m\u001b[0;34m\u001b[0m\u001b[0;34m\u001b[0m\u001b[0m\n",
            "\u001b[0;31mUnimplementedError\u001b[0m: Graph execution error:\n\nDetected at node 'mean_squared_error/Cast' defined at (most recent call last):\n    File \"/usr/lib/python3.7/runpy.py\", line 193, in _run_module_as_main\n      \"__main__\", mod_spec)\n    File \"/usr/lib/python3.7/runpy.py\", line 85, in _run_code\n      exec(code, run_globals)\n    File \"/usr/local/lib/python3.7/dist-packages/ipykernel_launcher.py\", line 16, in <module>\n      app.launch_new_instance()\n    File \"/usr/local/lib/python3.7/dist-packages/traitlets/config/application.py\", line 846, in launch_instance\n      app.start()\n    File \"/usr/local/lib/python3.7/dist-packages/ipykernel/kernelapp.py\", line 612, in start\n      self.io_loop.start()\n    File \"/usr/local/lib/python3.7/dist-packages/tornado/platform/asyncio.py\", line 132, in start\n      self.asyncio_loop.run_forever()\n    File \"/usr/lib/python3.7/asyncio/base_events.py\", line 541, in run_forever\n      self._run_once()\n    File \"/usr/lib/python3.7/asyncio/base_events.py\", line 1786, in _run_once\n      handle._run()\n    File \"/usr/lib/python3.7/asyncio/events.py\", line 88, in _run\n      self._context.run(self._callback, *self._args)\n    File \"/usr/local/lib/python3.7/dist-packages/tornado/ioloop.py\", line 758, in _run_callback\n      ret = callback()\n    File \"/usr/local/lib/python3.7/dist-packages/tornado/stack_context.py\", line 300, in null_wrapper\n      return fn(*args, **kwargs)\n    File \"/usr/local/lib/python3.7/dist-packages/tornado/gen.py\", line 1233, in inner\n      self.run()\n    File \"/usr/local/lib/python3.7/dist-packages/tornado/gen.py\", line 1147, in run\n      yielded = self.gen.send(value)\n    File \"/usr/local/lib/python3.7/dist-packages/ipykernel/kernelbase.py\", line 365, in process_one\n      yield gen.maybe_future(dispatch(*args))\n    File \"/usr/local/lib/python3.7/dist-packages/tornado/gen.py\", line 326, in wrapper\n      yielded = next(result)\n    File \"/usr/local/lib/python3.7/dist-packages/ipykernel/kernelbase.py\", line 268, in dispatch_shell\n      yield gen.maybe_future(handler(stream, idents, msg))\n    File \"/usr/local/lib/python3.7/dist-packages/tornado/gen.py\", line 326, in wrapper\n      yielded = next(result)\n    File \"/usr/local/lib/python3.7/dist-packages/ipykernel/kernelbase.py\", line 545, in execute_request\n      user_expressions, allow_stdin,\n    File \"/usr/local/lib/python3.7/dist-packages/tornado/gen.py\", line 326, in wrapper\n      yielded = next(result)\n    File \"/usr/local/lib/python3.7/dist-packages/ipykernel/ipkernel.py\", line 306, in do_execute\n      res = shell.run_cell(code, store_history=store_history, silent=silent)\n    File \"/usr/local/lib/python3.7/dist-packages/ipykernel/zmqshell.py\", line 536, in run_cell\n      return super(ZMQInteractiveShell, self).run_cell(*args, **kwargs)\n    File \"/usr/local/lib/python3.7/dist-packages/IPython/core/interactiveshell.py\", line 2855, in run_cell\n      raw_cell, store_history, silent, shell_futures)\n    File \"/usr/local/lib/python3.7/dist-packages/IPython/core/interactiveshell.py\", line 2881, in _run_cell\n      return runner(coro)\n    File \"/usr/local/lib/python3.7/dist-packages/IPython/core/async_helpers.py\", line 68, in _pseudo_sync_runner\n      coro.send(None)\n    File \"/usr/local/lib/python3.7/dist-packages/IPython/core/interactiveshell.py\", line 3058, in run_cell_async\n      interactivity=interactivity, compiler=compiler, result=result)\n    File \"/usr/local/lib/python3.7/dist-packages/IPython/core/interactiveshell.py\", line 3249, in run_ast_nodes\n      if (await self.run_code(code, result,  async_=asy)):\n    File \"/usr/local/lib/python3.7/dist-packages/IPython/core/interactiveshell.py\", line 3326, in run_code\n      exec(code_obj, self.user_global_ns, self.user_ns)\n    File \"<ipython-input-85-1586e37ef488>\", line 1, in <module>\n      epo = modelos.fit(Ce, Ke, epochs=200, verbose = 0)\n    File \"/usr/local/lib/python3.7/dist-packages/keras/utils/traceback_utils.py\", line 64, in error_handler\n      return fn(*args, **kwargs)\n    File \"/usr/local/lib/python3.7/dist-packages/keras/engine/training.py\", line 1384, in fit\n      tmp_logs = self.train_function(iterator)\n    File \"/usr/local/lib/python3.7/dist-packages/keras/engine/training.py\", line 1021, in train_function\n      return step_function(self, iterator)\n    File \"/usr/local/lib/python3.7/dist-packages/keras/engine/training.py\", line 1010, in step_function\n      outputs = model.distribute_strategy.run(run_step, args=(data,))\n    File \"/usr/local/lib/python3.7/dist-packages/keras/engine/training.py\", line 1000, in run_step\n      outputs = model.train_step(data)\n    File \"/usr/local/lib/python3.7/dist-packages/keras/engine/training.py\", line 860, in train_step\n      loss = self.compute_loss(x, y, y_pred, sample_weight)\n    File \"/usr/local/lib/python3.7/dist-packages/keras/engine/training.py\", line 919, in compute_loss\n      y, y_pred, sample_weight, regularization_losses=self.losses)\n    File \"/usr/local/lib/python3.7/dist-packages/keras/engine/compile_utils.py\", line 201, in __call__\n      loss_value = loss_obj(y_t, y_p, sample_weight=sw)\n    File \"/usr/local/lib/python3.7/dist-packages/keras/losses.py\", line 141, in __call__\n      losses = call_fn(y_true, y_pred)\n    File \"/usr/local/lib/python3.7/dist-packages/keras/losses.py\", line 245, in call\n      return ag_fn(y_true, y_pred, **self._fn_kwargs)\n    File \"/usr/local/lib/python3.7/dist-packages/keras/losses.py\", line 1328, in mean_squared_error\n      y_true = tf.cast(y_true, y_pred.dtype)\nNode: 'mean_squared_error/Cast'\nCast string to float is not supported\n\t [[{{node mean_squared_error/Cast}}]] [Op:__inference_train_function_5406]"
          ]
        }
      ]
    },
    {
      "cell_type": "code",
      "source": [
        "resps = modelos.predict([27])\n",
        "print(resps)"
      ],
      "metadata": {
        "id": "-BP8FyWEhF-G"
      },
      "execution_count": null,
      "outputs": []
    },
    {
      "cell_type": "markdown",
      "source": [
        "SEMANA 11\n"
      ],
      "metadata": {
        "id": "UAHwKgksAUcJ"
      }
    },
    {
      "cell_type": "code",
      "source": [
        "#1. Importar las librerias.\n",
        "import tensorflow as tf\n",
        "import matplotlib.pyplot as plt\n",
        "import numpy as np\n",
        "import math\n",
        "import tensorflow_datasets as tfds"
      ],
      "metadata": {
        "id": "CuvGxUV_AYEO"
      },
      "execution_count": 1,
      "outputs": []
    },
    {
      "cell_type": "code",
      "source": [
        "#2. Cargamos el dataset\n",
        "dataset, metadata = tfds.load('mnist', as_supervised=True, with_info=True)\n",
        "#print(dataset[\"train\"])\n",
        "datos_entrenamiento, datos_prueba = dataset[\"train\"], dataset[\"test\"]"
      ],
      "metadata": {
        "colab": {
          "base_uri": "https://localhost:8080/",
          "height": 84,
          "referenced_widgets": [
            "d2ab309e9870424b86f51d7bbde58f4f",
            "fd0a04e7846e4e2a9e55fc2badfbb5f4",
            "f4881bd47d7c4c918479f79f6bc34f5b",
            "75a4d262dae54991a00770e2b14ef676",
            "b7cefdd4d0a54501b2eba0d6617b5dd2",
            "5523fda0b2fa4849bf872df8911c86f8",
            "73dc1f8bfab149f5b14086e2ec185dd0",
            "875f954f914e47a08d4fb24b94ad1a97",
            "f5e65d31808746ceb6d9c51b27b49fe6",
            "17811ddb9ccd4d1eb1d63289709bdb14",
            "5fedaa1429054ff8ba87675de09ce334"
          ]
        },
        "id": "VjcxYv-sAn09",
        "outputId": "e78d3b3b-7e76-4c4d-9ccc-9ec1e1db1956"
      },
      "execution_count": 2,
      "outputs": [
        {
          "output_type": "stream",
          "name": "stdout",
          "text": [
            "\u001b[1mDownloading and preparing dataset 11.06 MiB (download: 11.06 MiB, generated: 21.00 MiB, total: 32.06 MiB) to ~/tensorflow_datasets/mnist/3.0.1...\u001b[0m\n"
          ]
        },
        {
          "output_type": "display_data",
          "data": {
            "text/plain": [
              "Dl Completed...:   0%|          | 0/4 [00:00<?, ? file/s]"
            ],
            "application/vnd.jupyter.widget-view+json": {
              "version_major": 2,
              "version_minor": 0,
              "model_id": "d2ab309e9870424b86f51d7bbde58f4f"
            }
          },
          "metadata": {}
        },
        {
          "output_type": "stream",
          "name": "stdout",
          "text": [
            "\u001b[1mDataset mnist downloaded and prepared to ~/tensorflow_datasets/mnist/3.0.1. Subsequent calls will reuse this data.\u001b[0m\n"
          ]
        }
      ]
    },
    {
      "cell_type": "code",
      "source": [
        "#monstrar una imagen...\n",
        "for img in datos_entrenamiento.take(1):\n",
        "  print(img)\n",
        "  img = img[0].numpy().reshape(1,28,28,1)\n",
        "  plt.grid(False)\n",
        "  plt.imshow(img[0, ..., 0], cmap=plt.cm.binary)"
      ],
      "metadata": {
        "id": "LlIYNvTHArzD"
      },
      "execution_count": null,
      "outputs": []
    },
    {
      "cell_type": "code",
      "source": [
        "#3. #asignar las etiquetas son 10\n",
        "numeros_letras = [\"Cero\", \"Uno\", \"Dos\", \"Tres\", \"Cuatro\", \"Cinco\", \"Seis\", \"Siete\", \"Ocho\", \"Nueve\"]"
      ],
      "metadata": {
        "id": "8T7CsFuHAuPm"
      },
      "execution_count": 4,
      "outputs": []
    },
    {
      "cell_type": "code",
      "source": [
        "#4. obtener la cantidad de datos.\n",
        "#print(metadata)\n",
        "cantidad_numeros_entrenamiento = metadata.splits[\"train\"].num_examples\n",
        "cantidad_numeros_prueba = metadata.splits[\"test\"].num_examples\n",
        "print(cantidad_numeros_entrenamiento, cantidad_numeros_prueba)"
      ],
      "metadata": {
        "colab": {
          "base_uri": "https://localhost:8080/"
        },
        "id": "VBSg7i0RAwfp",
        "outputId": "c4129ad3-65bc-4f3c-8988-9e038076aee0"
      },
      "execution_count": 5,
      "outputs": [
        {
          "output_type": "stream",
          "name": "stdout",
          "text": [
            "60000 10000\n"
          ]
        }
      ]
    },
    {
      "cell_type": "code",
      "source": [
        "#5. funcion normalizadora de los pixeles de 0 - 255 que sean valores de 0 - 1\n",
        "def normalizacion(img, label):\n",
        "  img = tf.cast(img, tf.float32)\n",
        "  img /= 255 #236/255 = 0.004237288\n",
        "  return img, label"
      ],
      "metadata": {
        "id": "QH-EFhdHAyc-"
      },
      "execution_count": 9,
      "outputs": []
    },
    {
      "cell_type": "code",
      "source": [
        "#6. Llamamos la funcion normlizadora\n",
        "datos_entrenamiento = datos_entrenamiento.map(normalizacion)\n",
        "datos_prueba = datos_prueba.map(normalizacion)\n",
        "\n",
        "#for img in datos_entrenamiento.take(1):\n",
        "  #print(img[0])#5.58150468e-08 => 0.0000000558150468"
      ],
      "metadata": {
        "id": "1H-OXBfLA2I9"
      },
      "execution_count": 8,
      "outputs": []
    }
  ]
}